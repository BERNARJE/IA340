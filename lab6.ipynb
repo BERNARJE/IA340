{
 "cells": [
  {
   "cell_type": "markdown",
   "id": "3fa446c9",
   "metadata": {},
   "source": [
    "## import libraries "
   ]
  },
  {
   "cell_type": "code",
   "execution_count": 1,
   "id": "ff2e3ff0",
   "metadata": {},
   "outputs": [
    {
     "name": "stderr",
     "output_type": "stream",
     "text": [
      "/home/ec2-user/anaconda3/envs/python3/lib/python3.6/site-packages/psycopg2/__init__.py:144: UserWarning: The psycopg2 wheel package will be renamed from release 2.8; in order to keep installing from binary please use \"pip install psycopg2-binary\" instead. For details see: <http://initd.org/psycopg/docs/install.html#binary-install-from-pypi>.\n",
      "  \"\"\")\n"
     ]
    }
   ],
   "source": [
    "import pandas\n",
    "import configparser\n",
    "import psycopg2"
   ]
  },
  {
   "cell_type": "code",
   "execution_count": 2,
   "id": "315634fb",
   "metadata": {},
   "outputs": [],
   "source": [
    "config = configparser.ConfigParser()\n",
    "config.read('config.ini')\n",
    "\n",
    "host = config['myaws']['host']\n",
    "db = config['myaws']['db']\n",
    "user = config['myaws']['user']\n",
    "pwd = config['myaws']['pwd']"
   ]
  },
  {
   "cell_type": "code",
   "execution_count": 3,
   "id": "d1026c1f",
   "metadata": {},
   "outputs": [],
   "source": [
    "conn = psycopg2.connect(host = host,\n",
    "                       user = user,\n",
    "                        password = pwd,\n",
    "                        dbname = db\n",
    "                       )\n",
    "cur = conn.cursor()"
   ]
  },
  {
   "cell_type": "markdown",
   "id": "0711d765",
   "metadata": {},
   "source": [
    "## create the hosue table"
   ]
  },
  {
   "cell_type": "markdown",
   "id": "2692995c",
   "metadata": {},
   "source": [
    "make sure change the schema name to your gp number"
   ]
  },
  {
   "cell_type": "code",
   "execution_count": null,
   "id": "29f2ffaa",
   "metadata": {},
   "outputs": [],
   "source": [
    "\n",
    "\n",
    "# replace the schema and table name to your schema and table name\n",
    "table_sql = \"\"\"\n",
    "            CREATE TABLE IF NOT EXISTS gp11.house\n",
    "            (\n",
    "\n",
    "                price integer,\n",
    "                bed integer,\n",
    "                bath integer,\n",
    "                area integer,\n",
    "                address VARCHAR(200),\n",
    "                PRIMARY KEY(address)\n",
    "            );\n",
    "\n",
    "            \"\"\"\n",
    "\n"
   ]
  },
  {
   "cell_type": "markdown",
   "id": "02945349",
   "metadata": {},
   "source": [
    "use the bellow cell only if you want to delete the table"
   ]
  },
  {
   "cell_type": "code",
   "execution_count": 117,
   "id": "e42bc1e2",
   "metadata": {},
   "outputs": [],
   "source": [
    "#conn.rollback()\n",
    "#table_sql=\"drop table if exists demo.house\""
   ]
  },
  {
   "cell_type": "code",
   "execution_count": null,
   "id": "298e3a5e",
   "metadata": {},
   "outputs": [],
   "source": [
    "\n",
    "cur.execute(table_sql)\n",
    "conn.commit()"
   ]
  },
  {
   "cell_type": "markdown",
   "id": "845c2ee9",
   "metadata": {},
   "source": [
    "## define the search region"
   ]
  },
  {
   "cell_type": "code",
   "execution_count": 26,
   "id": "1091ca45",
   "metadata": {},
   "outputs": [],
   "source": [
    "url = 'https://www.trulia.com/for_sale/Bowie,MD/12_zm/'"
   ]
  },
  {
   "cell_type": "code",
   "execution_count": 27,
   "id": "001e3568",
   "metadata": {},
   "outputs": [],
   "source": [
    "\n",
    "\n",
    "import urllib.request\n",
    "response = urllib.request.urlopen(url)\n",
    "html_data= response.read()\n",
    "# print(html_data.decode('utf-8'))\n",
    "\n"
   ]
  },
  {
   "cell_type": "code",
   "execution_count": 28,
   "id": "9c4806db",
   "metadata": {
    "scrolled": true
   },
   "outputs": [],
   "source": [
    "\n",
    "\n",
    "from bs4 import BeautifulSoup\n",
    "soup = BeautifulSoup(html_data,'html.parser')\n",
    "# print (soup)\n",
    "\n"
   ]
  },
  {
   "cell_type": "markdown",
   "id": "a9aa3436",
   "metadata": {},
   "source": [
    "## insert the records into database"
   ]
  },
  {
   "cell_type": "code",
   "execution_count": 29,
   "id": "f3fa983e",
   "metadata": {},
   "outputs": [],
   "source": [
    "\n",
    "for li_class in soup.find_all('li', class_ = 'Grid__CellBox-sc-144isrp-0 SearchResultsList__WideCell-b7y9ki-2 jiZmPM'):\n",
    "    try:\n",
    "        for price_div in li_class.find_all('div',{'data-testid':'property-price'}):\n",
    "            price =int(price_div.text.replace('$','').replace(\",\",\"\"))\n",
    "        for bed_div in li_class.find_all('div', {'data-testid':'property-beds'}):\n",
    "            bed= int(bed_div.text.replace('bd','').replace(\",\",\"\"))\n",
    "        for bath_div in li_class.find_all('div',{'data-testid':'property-baths'}):\n",
    "            bath =int(bath_div.text.replace('ba','').replace(\",\",\"\"))\n",
    "        for area_div in li_class.find_all('div',{'data-testid':'property-floorSpace'}):\n",
    "            area=int(area_div.text.split('sqft')[0].replace(\",\",\"\"))\n",
    "        for address_div in li_class.find_all('div',{'data-testid':'property-address'}):\n",
    "            address =address_div.text\n",
    "\n",
    "        try:\n",
    "            sql_insert = \"\"\"\n",
    "                        insert into gp11.house(price,bed,bath,area,address)\n",
    "                        values('{}','{}','{}','{}','{}')            \n",
    "                        \"\"\".format(price,bed,bath,area,address)\n",
    "\n",
    "            cur.execute(sql_insert)\n",
    "            conn.commit()\n",
    "        except:\n",
    "            conn.rollback()\n",
    "    except:\n",
    "        pass\n",
    "        "
   ]
  },
  {
   "cell_type": "markdown",
   "id": "2e931b52",
   "metadata": {},
   "source": [
    "## Query the Table"
   ]
  },
  {
   "cell_type": "code",
   "execution_count": 31,
   "id": "e201c8fb",
   "metadata": {},
   "outputs": [
    {
     "data": {
      "text/html": [
       "<div>\n",
       "<style scoped>\n",
       "    .dataframe tbody tr th:only-of-type {\n",
       "        vertical-align: middle;\n",
       "    }\n",
       "\n",
       "    .dataframe tbody tr th {\n",
       "        vertical-align: top;\n",
       "    }\n",
       "\n",
       "    .dataframe thead th {\n",
       "        text-align: right;\n",
       "    }\n",
       "</style>\n",
       "<table border=\"1\" class=\"dataframe\">\n",
       "  <thead>\n",
       "    <tr style=\"text-align: right;\">\n",
       "      <th></th>\n",
       "      <th>price</th>\n",
       "      <th>bed</th>\n",
       "      <th>bath</th>\n",
       "      <th>area</th>\n",
       "      <th>address</th>\n",
       "    </tr>\n",
       "  </thead>\n",
       "  <tbody>\n",
       "    <tr>\n",
       "      <th>0</th>\n",
       "      <td>429000</td>\n",
       "      <td>4</td>\n",
       "      <td>3</td>\n",
       "      <td>2392</td>\n",
       "      <td>1038 James Pl, Harrisonburg, VA 22801</td>\n",
       "    </tr>\n",
       "    <tr>\n",
       "      <th>1</th>\n",
       "      <td>334900</td>\n",
       "      <td>4</td>\n",
       "      <td>3</td>\n",
       "      <td>1584</td>\n",
       "      <td>135 Port Republic Rd, Harrisonburg, VA 22801</td>\n",
       "    </tr>\n",
       "    <tr>\n",
       "      <th>2</th>\n",
       "      <td>199900</td>\n",
       "      <td>4</td>\n",
       "      <td>1</td>\n",
       "      <td>1285</td>\n",
       "      <td>786 Foley Rd, Harrisonburg, VA 22801</td>\n",
       "    </tr>\n",
       "    <tr>\n",
       "      <th>3</th>\n",
       "      <td>329080</td>\n",
       "      <td>3</td>\n",
       "      <td>2</td>\n",
       "      <td>1296</td>\n",
       "      <td>2095 Tailor Dr, Harrisonburg, VA 22801</td>\n",
       "    </tr>\n",
       "    <tr>\n",
       "      <th>4</th>\n",
       "      <td>372980</td>\n",
       "      <td>3</td>\n",
       "      <td>2</td>\n",
       "      <td>1366</td>\n",
       "      <td>2070 Tailor Dr, Harrisonburg, VA 22801</td>\n",
       "    </tr>\n",
       "    <tr>\n",
       "      <th>...</th>\n",
       "      <td>...</td>\n",
       "      <td>...</td>\n",
       "      <td>...</td>\n",
       "      <td>...</td>\n",
       "      <td>...</td>\n",
       "    </tr>\n",
       "    <tr>\n",
       "      <th>115</th>\n",
       "      <td>399900</td>\n",
       "      <td>4</td>\n",
       "      <td>2</td>\n",
       "      <td>1716</td>\n",
       "      <td>2405 Kelford Ln, Bowie, MD 20715</td>\n",
       "    </tr>\n",
       "    <tr>\n",
       "      <th>116</th>\n",
       "      <td>325000</td>\n",
       "      <td>2</td>\n",
       "      <td>2</td>\n",
       "      <td>1352</td>\n",
       "      <td>3847 Eaves Ln #156, Bowie, MD 20716</td>\n",
       "    </tr>\n",
       "    <tr>\n",
       "      <th>117</th>\n",
       "      <td>359900</td>\n",
       "      <td>2</td>\n",
       "      <td>2</td>\n",
       "      <td>1634</td>\n",
       "      <td>3745 Eightpenny Ln #191, Bowie, MD 20716</td>\n",
       "    </tr>\n",
       "    <tr>\n",
       "      <th>118</th>\n",
       "      <td>559900</td>\n",
       "      <td>5</td>\n",
       "      <td>4</td>\n",
       "      <td>2112</td>\n",
       "      <td>10902 Kencrest Dr, Bowie, MD 20721</td>\n",
       "    </tr>\n",
       "    <tr>\n",
       "      <th>119</th>\n",
       "      <td>430000</td>\n",
       "      <td>3</td>\n",
       "      <td>2</td>\n",
       "      <td>1833</td>\n",
       "      <td>4404 Ockford Ln, Bowie, MD 20715</td>\n",
       "    </tr>\n",
       "  </tbody>\n",
       "</table>\n",
       "<p>120 rows × 5 columns</p>\n",
       "</div>"
      ],
      "text/plain": [
       "      price  bed  bath  area                                       address\n",
       "0    429000    4     3  2392         1038 James Pl, Harrisonburg, VA 22801\n",
       "1    334900    4     3  1584  135 Port Republic Rd, Harrisonburg, VA 22801\n",
       "2    199900    4     1  1285          786 Foley Rd, Harrisonburg, VA 22801\n",
       "3    329080    3     2  1296        2095 Tailor Dr, Harrisonburg, VA 22801\n",
       "4    372980    3     2  1366        2070 Tailor Dr, Harrisonburg, VA 22801\n",
       "..      ...  ...   ...   ...                                           ...\n",
       "115  399900    4     2  1716              2405 Kelford Ln, Bowie, MD 20715\n",
       "116  325000    2     2  1352           3847 Eaves Ln #156, Bowie, MD 20716\n",
       "117  359900    2     2  1634      3745 Eightpenny Ln #191, Bowie, MD 20716\n",
       "118  559900    5     4  2112            10902 Kencrest Dr, Bowie, MD 20721\n",
       "119  430000    3     2  1833              4404 Ockford Ln, Bowie, MD 20715\n",
       "\n",
       "[120 rows x 5 columns]"
      ]
     },
     "execution_count": 31,
     "metadata": {},
     "output_type": "execute_result"
    }
   ],
   "source": [
    "df = pandas.read_sql_query('select * from gp11.house ', conn)\n",
    "df[:]"
   ]
  },
  {
   "cell_type": "markdown",
   "id": "1854a3d3",
   "metadata": {},
   "source": [
    "## basic stat"
   ]
  },
  {
   "cell_type": "code",
   "execution_count": 32,
   "id": "197b99ae",
   "metadata": {},
   "outputs": [
    {
     "data": {
      "text/html": [
       "<div>\n",
       "<style scoped>\n",
       "    .dataframe tbody tr th:only-of-type {\n",
       "        vertical-align: middle;\n",
       "    }\n",
       "\n",
       "    .dataframe tbody tr th {\n",
       "        vertical-align: top;\n",
       "    }\n",
       "\n",
       "    .dataframe thead th {\n",
       "        text-align: right;\n",
       "    }\n",
       "</style>\n",
       "<table border=\"1\" class=\"dataframe\">\n",
       "  <thead>\n",
       "    <tr style=\"text-align: right;\">\n",
       "      <th></th>\n",
       "      <th>price</th>\n",
       "      <th>bed</th>\n",
       "      <th>bath</th>\n",
       "      <th>area</th>\n",
       "    </tr>\n",
       "  </thead>\n",
       "  <tbody>\n",
       "    <tr>\n",
       "      <th>count</th>\n",
       "      <td>1.200000e+02</td>\n",
       "      <td>120.000000</td>\n",
       "      <td>120.000000</td>\n",
       "      <td>120.000000</td>\n",
       "    </tr>\n",
       "    <tr>\n",
       "      <th>mean</th>\n",
       "      <td>4.299430e+05</td>\n",
       "      <td>3.458333</td>\n",
       "      <td>2.941667</td>\n",
       "      <td>2181.291667</td>\n",
       "    </tr>\n",
       "    <tr>\n",
       "      <th>std</th>\n",
       "      <td>2.122561e+05</td>\n",
       "      <td>1.121942</td>\n",
       "      <td>1.071368</td>\n",
       "      <td>1303.313550</td>\n",
       "    </tr>\n",
       "    <tr>\n",
       "      <th>min</th>\n",
       "      <td>8.989900e+04</td>\n",
       "      <td>1.000000</td>\n",
       "      <td>1.000000</td>\n",
       "      <td>596.000000</td>\n",
       "    </tr>\n",
       "    <tr>\n",
       "      <th>25%</th>\n",
       "      <td>2.931750e+05</td>\n",
       "      <td>3.000000</td>\n",
       "      <td>2.000000</td>\n",
       "      <td>1388.500000</td>\n",
       "    </tr>\n",
       "    <tr>\n",
       "      <th>50%</th>\n",
       "      <td>4.175000e+05</td>\n",
       "      <td>3.000000</td>\n",
       "      <td>3.000000</td>\n",
       "      <td>1822.500000</td>\n",
       "    </tr>\n",
       "    <tr>\n",
       "      <th>75%</th>\n",
       "      <td>4.767402e+05</td>\n",
       "      <td>4.000000</td>\n",
       "      <td>3.000000</td>\n",
       "      <td>2376.500000</td>\n",
       "    </tr>\n",
       "    <tr>\n",
       "      <th>max</th>\n",
       "      <td>1.250000e+06</td>\n",
       "      <td>8.000000</td>\n",
       "      <td>7.000000</td>\n",
       "      <td>8353.000000</td>\n",
       "    </tr>\n",
       "  </tbody>\n",
       "</table>\n",
       "</div>"
      ],
      "text/plain": [
       "              price         bed        bath         area\n",
       "count  1.200000e+02  120.000000  120.000000   120.000000\n",
       "mean   4.299430e+05    3.458333    2.941667  2181.291667\n",
       "std    2.122561e+05    1.121942    1.071368  1303.313550\n",
       "min    8.989900e+04    1.000000    1.000000   596.000000\n",
       "25%    2.931750e+05    3.000000    2.000000  1388.500000\n",
       "50%    4.175000e+05    3.000000    3.000000  1822.500000\n",
       "75%    4.767402e+05    4.000000    3.000000  2376.500000\n",
       "max    1.250000e+06    8.000000    7.000000  8353.000000"
      ]
     },
     "execution_count": 32,
     "metadata": {},
     "output_type": "execute_result"
    }
   ],
   "source": [
    "df.describe()"
   ]
  },
  {
   "cell_type": "markdown",
   "id": "7909a4a9",
   "metadata": {},
   "source": [
    "## price distribution"
   ]
  },
  {
   "cell_type": "code",
   "execution_count": 33,
   "id": "e5bbd6ee",
   "metadata": {},
   "outputs": [
    {
     "data": {
      "text/plain": [
       "<AxesSubplot:>"
      ]
     },
     "execution_count": 33,
     "metadata": {},
     "output_type": "execute_result"
    },
    {
     "data": {
      "image/png": "[encoded data removed]",
      "text/plain": [
       "<Figure size 432x288 with 1 Axes>"
      ]
     },
     "metadata": {
      "needs_background": "light"
     },
     "output_type": "display_data"
    }
   ],
   "source": [
    "df['price'].hist()"
   ]
  },
  {
   "cell_type": "markdown",
   "id": "42062829",
   "metadata": {},
   "source": [
    "## bed vs bath"
   ]
  },
  {
   "cell_type": "code",
   "execution_count": 34,
   "id": "a5eacab0",
   "metadata": {},
   "outputs": [
    {
     "data": {
      "text/plain": [
       "<AxesSubplot:xlabel='bed', ylabel='bath'>"
      ]
     },
     "execution_count": 34,
     "metadata": {},
     "output_type": "execute_result"
    },
    {
     "data": {
      "image/png": "[encoded data removed]",
      "text/plain": [
       "<Figure size 432x288 with 1 Axes>"
      ]
     },
     "metadata": {
      "needs_background": "light"
     },
     "output_type": "display_data"
    }
   ],
   "source": [
    "df.plot.scatter(x='bed',y='bath')"
   ]
  },
  {
   "cell_type": "code",
   "execution_count": null,
   "id": "43daaea7",
   "metadata": {},
   "outputs": [],
   "source": []
  }
 ],
 "metadata": {
  "kernelspec": {
   "display_name": "conda_python3",
   "language": "python",
   "name": "conda_python3"
  },
  "language_info": {
   "codemirror_mode": {
    "name": "ipython",
    "version": 3
   },
   "file_extension": ".py",
   "mimetype": "text/x-python",
   "name": "python",
   "nbconvert_exporter": "python",
   "pygments_lexer": "ipython3",
   "version": "3.6.13"
  }
 },
 "nbformat": 4,
 "nbformat_minor": 5
}
