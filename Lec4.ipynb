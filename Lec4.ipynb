{
 "cells": [
  {
   "cell_type": "markdown",
   "id": "f12e6fed",
   "metadata": {},
   "source": [
    "## LECTURE 4"
   ]
  },
  {
   "cell_type": "code",
   "execution_count": 1,
   "id": "cb5681bf",
   "metadata": {},
   "outputs": [
    {
     "name": "stdout",
     "output_type": "stream",
     "text": [
      "hello\n"
     ]
    }
   ],
   "source": [
    "print('hello')"
   ]
  },
  {
   "cell_type": "code",
   "execution_count": 2,
   "id": "1ddae8bd",
   "metadata": {},
   "outputs": [
    {
     "data": {
      "text/plain": [
       "3"
      ]
     },
     "execution_count": 2,
     "metadata": {},
     "output_type": "execute_result"
    }
   ],
   "source": [
    "1+2"
   ]
  },
  {
   "cell_type": "code",
   "execution_count": 3,
   "id": "4ff9d815",
   "metadata": {},
   "outputs": [
    {
     "name": "stdout",
     "output_type": "stream",
     "text": [
      "1\n",
      "2\n",
      "3\n"
     ]
    }
   ],
   "source": [
    "for number in (1,2,3):\n",
    "    print(number)"
   ]
  },
  {
   "cell_type": "code",
   "execution_count": 4,
   "id": "6d897b14",
   "metadata": {},
   "outputs": [
    {
     "name": "stdout",
     "output_type": "stream",
     "text": [
      "1+3 is 4\n"
     ]
    }
   ],
   "source": [
    "print('1+3 is {}'.format(1+3))"
   ]
  },
  {
   "cell_type": "code",
   "execution_count": 1,
   "id": "b517880f",
   "metadata": {},
   "outputs": [
    {
     "name": "stdout",
     "output_type": "stream",
     "text": [
      "Requirement already satisfied: psycopg2 in /home/ec2-user/anaconda3/envs/python3/lib/python3.6/site-packages (2.7.5)\r\n"
     ]
    }
   ],
   "source": [
    "!pip install psycopg2"
   ]
  },
  {
   "cell_type": "code",
   "execution_count": 2,
   "id": "57d44fa8",
   "metadata": {},
   "outputs": [
    {
     "name": "stderr",
     "output_type": "stream",
     "text": [
      "/home/ec2-user/anaconda3/envs/python3/lib/python3.6/site-packages/psycopg2/__init__.py:144: UserWarning: The psycopg2 wheel package will be renamed from release 2.8; in order to keep installing from binary please use \"pip install psycopg2-binary\" instead. For details see: <http://initd.org/psycopg/docs/install.html#binary-install-from-pypi>.\n",
      "  \"\"\")\n"
     ]
    }
   ],
   "source": [
    "import pandas\n",
    "import configparser\n",
    "import psycopg2"
   ]
  },
  {
   "cell_type": "code",
   "execution_count": 3,
   "id": "f0311d71",
   "metadata": {},
   "outputs": [],
   "source": [
    "config = configparser.ConfigParser()\n",
    "config.read('config.ini')\n",
    "\n",
    "host=config['myaws']['host']\n",
    "db=config['myaws']['db']\n",
    "user=config['myaws']['user']\n",
    "pwd = config['myaws']['pwd']\n",
    "\n",
    "conn = psycopg2.connect(  host=host,\n",
    "                       user=user,\n",
    "                       password = pwd,\n",
    "                       dbname=db)"
   ]
  },
  {
   "cell_type": "code",
   "execution_count": 4,
   "id": "fba8796e",
   "metadata": {},
   "outputs": [],
   "source": [
    "cur=conn.cursor()"
   ]
  },
  {
   "cell_type": "code",
   "execution_count": 9,
   "id": "6d4d9ad4",
   "metadata": {},
   "outputs": [],
   "source": [
    "sql_statement = \"\"\" select bathroom,bedroom\n",
    "            from public.house_price_full\n",
    "            where bathroom>2\"\"\""
   ]
  },
  {
   "cell_type": "code",
   "execution_count": 10,
   "id": "14817a4c",
   "metadata": {},
   "outputs": [],
   "source": [
    "cur.execute(sql_statement)"
   ]
  },
  {
   "cell_type": "code",
   "execution_count": 11,
   "id": "22e72e51",
   "metadata": {},
   "outputs": [
    {
     "data": {
      "text/plain": [
       "(3, 4)"
      ]
     },
     "execution_count": 11,
     "metadata": {},
     "output_type": "execute_result"
    }
   ],
   "source": [
    "cur.fetchone()"
   ]
  },
  {
   "cell_type": "code",
   "execution_count": 12,
   "id": "a1cc5c5c",
   "metadata": {},
   "outputs": [
    {
     "name": "stdout",
     "output_type": "stream",
     "text": [
      "3 4\n",
      "3 5\n",
      "3 4\n",
      "3 4\n",
      "3 3\n",
      "3 5\n",
      "4 5\n",
      "3 4\n",
      "3 4\n",
      "3 4\n"
     ]
    }
   ],
   "source": [
    "for bathroom,bedroom in cur.fetchall()[:10]:\n",
    "    print(bathroom,bedroom)"
   ]
  },
  {
   "cell_type": "code",
   "execution_count": 13,
   "id": "f3877e24",
   "metadata": {},
   "outputs": [
    {
     "data": {
      "text/html": [
       "<div>\n",
       "<style scoped>\n",
       "    .dataframe tbody tr th:only-of-type {\n",
       "        vertical-align: middle;\n",
       "    }\n",
       "\n",
       "    .dataframe tbody tr th {\n",
       "        vertical-align: top;\n",
       "    }\n",
       "\n",
       "    .dataframe thead th {\n",
       "        text-align: right;\n",
       "    }\n",
       "</style>\n",
       "<table border=\"1\" class=\"dataframe\">\n",
       "  <thead>\n",
       "    <tr style=\"text-align: right;\">\n",
       "      <th></th>\n",
       "      <th>bathroom</th>\n",
       "      <th>bedroom</th>\n",
       "    </tr>\n",
       "  </thead>\n",
       "  <tbody>\n",
       "    <tr>\n",
       "      <th>0</th>\n",
       "      <td>3</td>\n",
       "      <td>4</td>\n",
       "    </tr>\n",
       "    <tr>\n",
       "      <th>1</th>\n",
       "      <td>3</td>\n",
       "      <td>4</td>\n",
       "    </tr>\n",
       "    <tr>\n",
       "      <th>2</th>\n",
       "      <td>3</td>\n",
       "      <td>5</td>\n",
       "    </tr>\n",
       "    <tr>\n",
       "      <th>3</th>\n",
       "      <td>3</td>\n",
       "      <td>4</td>\n",
       "    </tr>\n",
       "    <tr>\n",
       "      <th>4</th>\n",
       "      <td>3</td>\n",
       "      <td>4</td>\n",
       "    </tr>\n",
       "    <tr>\n",
       "      <th>5</th>\n",
       "      <td>3</td>\n",
       "      <td>3</td>\n",
       "    </tr>\n",
       "    <tr>\n",
       "      <th>6</th>\n",
       "      <td>3</td>\n",
       "      <td>5</td>\n",
       "    </tr>\n",
       "    <tr>\n",
       "      <th>7</th>\n",
       "      <td>4</td>\n",
       "      <td>5</td>\n",
       "    </tr>\n",
       "    <tr>\n",
       "      <th>8</th>\n",
       "      <td>3</td>\n",
       "      <td>4</td>\n",
       "    </tr>\n",
       "    <tr>\n",
       "      <th>9</th>\n",
       "      <td>3</td>\n",
       "      <td>4</td>\n",
       "    </tr>\n",
       "  </tbody>\n",
       "</table>\n",
       "</div>"
      ],
      "text/plain": [
       "   bathroom  bedroom\n",
       "0         3        4\n",
       "1         3        4\n",
       "2         3        5\n",
       "3         3        4\n",
       "4         3        4\n",
       "5         3        3\n",
       "6         3        5\n",
       "7         4        5\n",
       "8         3        4\n",
       "9         3        4"
      ]
     },
     "execution_count": 13,
     "metadata": {},
     "output_type": "execute_result"
    }
   ],
   "source": [
    "df=pandas.read_sql_query(sql_statement,conn)\n",
    "df[:10]"
   ]
  },
  {
   "cell_type": "code",
   "execution_count": 14,
   "id": "fe293e94",
   "metadata": {},
   "outputs": [],
   "source": [
    "sql_statement= \"\"\"\n",
    "                select built_in,\n",
    "                avg(price) as avg_price\n",
    "                from public.house_price_full\n",
    "                group by built_in\n",
    "                order by built_in\n",
    "                \"\"\""
   ]
  },
  {
   "cell_type": "code",
   "execution_count": 16,
   "id": "05fc6916",
   "metadata": {},
   "outputs": [
    {
     "data": {
      "text/plain": [
       "<AxesSubplot:xlabel='built_in'>"
      ]
     },
     "execution_count": 16,
     "metadata": {},
     "output_type": "execute_result"
    },
    {
     "data": {
      "image/png": "[encoded data removed]",
      "text/plain": [
       "<Figure size 432x288 with 1 Axes>"
      ]
     },
     "metadata": {
      "needs_background": "light"
     },
     "output_type": "display_data"
    }
   ],
   "source": [
    "df_price=pandas.read_sql_query(sql_statement,conn)\n",
    "\n",
    "df_price.plot(y='avg_price',x='built_in')"
   ]
  },
  {
   "cell_type": "code",
   "execution_count": 17,
   "id": "88fb5555",
   "metadata": {},
   "outputs": [],
   "source": [
    "sql_statement= \"\"\"\n",
    "                select price,area\n",
    "                from public.house_price_full\n",
    "                \"\"\""
   ]
  },
  {
   "cell_type": "code",
   "execution_count": 18,
   "id": "76b2343a",
   "metadata": {},
   "outputs": [
    {
     "data": {
      "text/plain": [
       "<AxesSubplot:>"
      ]
     },
     "execution_count": 18,
     "metadata": {},
     "output_type": "execute_result"
    },
    {
     "data": {
      "image/png": "[encoded data removed]",
      "text/plain": [
       "<Figure size 432x288 with 1 Axes>"
      ]
     },
     "metadata": {
      "needs_background": "light"
     },
     "output_type": "display_data"
    }
   ],
   "source": [
    "df_price=pandas.read_sql_query(sql_statement,conn)\n",
    "\n",
    "df_price['area'].hist()"
   ]
  },
  {
   "cell_type": "code",
   "execution_count": 1,
   "id": "c0646d77",
   "metadata": {},
   "outputs": [],
   "source": [
    "sql_statement= \"\"\"\n",
    "                select house_type,\n",
    "                avg(price) as avg_price\n",
    "                from public.house_price_full\n",
    "                group by house_type\n",
    "                order by avg_price desc\n",
    "                \"\"\""
   ]
  },
  {
   "cell_type": "code",
   "execution_count": 12,
   "id": "d2f77852",
   "metadata": {},
   "outputs": [
    {
     "data": {
      "text/plain": [
       "<AxesSubplot:xlabel='house_type'>"
      ]
     },
     "execution_count": 12,
     "metadata": {},
     "output_type": "execute_result"
    },
    {
     "data": {
      "image/png": "[encoded data removed]",
      "text/plain": [
       "<Figure size 432x288 with 1 Axes>"
      ]
     },
     "metadata": {
      "needs_background": "light"
     },
     "output_type": "display_data"
    }
   ],
   "source": [
    "df_price=pandas.read_sql_query(sql_statement,conn)\n",
    "\n",
    "df_price.plot.bar(x='house_type',y='avg_price')"
   ]
  },
  {
   "cell_type": "code",
   "execution_count": 13,
   "id": "41ead41e",
   "metadata": {},
   "outputs": [
    {
     "name": "stdout",
     "output_type": "stream",
     "text": [
      "\n",
      "                insert into gp11.student(s_email,s_name,major)\n",
      "                values('s26@jmu.edu','s5','ia')\n",
      "                                \n",
      "                \n"
     ]
    }
   ],
   "source": [
    "sql_statement = \"\"\"\n",
    "                insert into gp11.student(s_email,s_name,major)\n",
    "                values('{}','{}','{}')\n",
    "                                \n",
    "                \"\"\".format('s26@jmu.edu','s5','ia')\n",
    "\n",
    "print(sql_statement)"
   ]
  },
  {
   "cell_type": "code",
   "execution_count": 14,
   "id": "3e2103cb",
   "metadata": {},
   "outputs": [],
   "source": [
    "cur.execute(sql_statement)"
   ]
  },
  {
   "cell_type": "code",
   "execution_count": 15,
   "id": "9068b948",
   "metadata": {},
   "outputs": [],
   "source": [
    "conn.rollback()"
   ]
  },
  {
   "cell_type": "code",
   "execution_count": 16,
   "id": "f3c74066",
   "metadata": {},
   "outputs": [],
   "source": [
    "sql_statement = \"\"\"\n",
    "                insert into gp11.student(s_email,s_name,major)\n",
    "                values('{}','{}','{}')\n",
    "                                \n",
    "                \"\"\".format('s6@jmu.edu','s6','ia')"
   ]
  },
  {
   "cell_type": "code",
   "execution_count": 17,
   "id": "94857d48",
   "metadata": {},
   "outputs": [],
   "source": [
    "cur.execute(sql_statement)"
   ]
  },
  {
   "cell_type": "code",
   "execution_count": 18,
   "id": "31e3d9a5",
   "metadata": {},
   "outputs": [],
   "source": [
    "conn.commit()"
   ]
  },
  {
   "cell_type": "code",
   "execution_count": 19,
   "id": "4a5e8beb",
   "metadata": {},
   "outputs": [
    {
     "data": {
      "text/html": [
       "<div>\n",
       "<style scoped>\n",
       "    .dataframe tbody tr th:only-of-type {\n",
       "        vertical-align: middle;\n",
       "    }\n",
       "\n",
       "    .dataframe tbody tr th {\n",
       "        vertical-align: top;\n",
       "    }\n",
       "\n",
       "    .dataframe thead th {\n",
       "        text-align: right;\n",
       "    }\n",
       "</style>\n",
       "<table border=\"1\" class=\"dataframe\">\n",
       "  <thead>\n",
       "    <tr style=\"text-align: right;\">\n",
       "      <th></th>\n",
       "      <th>s_email</th>\n",
       "      <th>s_name</th>\n",
       "      <th>major</th>\n",
       "    </tr>\n",
       "  </thead>\n",
       "  <tbody>\n",
       "    <tr>\n",
       "      <th>0</th>\n",
       "      <td>sheparj@dukes.jmu.edu</td>\n",
       "      <td>Jane Shepard</td>\n",
       "      <td>Intelligence Analysis</td>\n",
       "    </tr>\n",
       "    <tr>\n",
       "      <th>1</th>\n",
       "      <td>wreu@dukes.jmu.edu</td>\n",
       "      <td>Urdnot Wrex</td>\n",
       "      <td>Computer Science</td>\n",
       "    </tr>\n",
       "    <tr>\n",
       "      <th>2</th>\n",
       "      <td>vakariag@dukes.jmu.edu</td>\n",
       "      <td>Garrus Vakarian</td>\n",
       "      <td>Intelligence Analysis</td>\n",
       "    </tr>\n",
       "    <tr>\n",
       "      <th>3</th>\n",
       "      <td>tsonl@dukes.jmu.edu</td>\n",
       "      <td>Liara T'Soni</td>\n",
       "      <td>Geographic Science</td>\n",
       "    </tr>\n",
       "    <tr>\n",
       "      <th>4</th>\n",
       "      <td>alenkk@dukes.jmu.edu</td>\n",
       "      <td>Kaiden Alenko</td>\n",
       "      <td>Intelligence Anlaysis</td>\n",
       "    </tr>\n",
       "    <tr>\n",
       "      <th>5</th>\n",
       "      <td>kriot@dukes.jmu.edu</td>\n",
       "      <td>Thane Krios</td>\n",
       "      <td>Computer Information Systems</td>\n",
       "    </tr>\n",
       "    <tr>\n",
       "      <th>6</th>\n",
       "      <td>gotk@dukes.jmu.edu</td>\n",
       "      <td>Kasumi Goto</td>\n",
       "      <td>Intelligence Analysis</td>\n",
       "    </tr>\n",
       "    <tr>\n",
       "      <th>7</th>\n",
       "      <td>lawsom@dukes.jmu.edu</td>\n",
       "      <td>Miranda Lawson</td>\n",
       "      <td>Computer Science</td>\n",
       "    </tr>\n",
       "    <tr>\n",
       "      <th>8</th>\n",
       "      <td>solum@dukes.jmu.edu</td>\n",
       "      <td>Mordin Solus</td>\n",
       "      <td>Geographic Science</td>\n",
       "    </tr>\n",
       "    <tr>\n",
       "      <th>9</th>\n",
       "      <td>tayloj@dukes.jmu.edu</td>\n",
       "      <td>Jacob Taylor</td>\n",
       "      <td>Computer Infromation Systems</td>\n",
       "    </tr>\n",
       "    <tr>\n",
       "      <th>10</th>\n",
       "      <td>s6@jmu.edu</td>\n",
       "      <td>s6</td>\n",
       "      <td>ia</td>\n",
       "    </tr>\n",
       "  </tbody>\n",
       "</table>\n",
       "</div>"
      ],
      "text/plain": [
       "                   s_email           s_name                         major\n",
       "0    sheparj@dukes.jmu.edu     Jane Shepard         Intelligence Analysis\n",
       "1       wreu@dukes.jmu.edu      Urdnot Wrex              Computer Science\n",
       "2   vakariag@dukes.jmu.edu  Garrus Vakarian         Intelligence Analysis\n",
       "3      tsonl@dukes.jmu.edu     Liara T'Soni            Geographic Science\n",
       "4     alenkk@dukes.jmu.edu    Kaiden Alenko         Intelligence Anlaysis\n",
       "5      kriot@dukes.jmu.edu      Thane Krios  Computer Information Systems\n",
       "6       gotk@dukes.jmu.edu      Kasumi Goto         Intelligence Analysis\n",
       "7     lawsom@dukes.jmu.edu   Miranda Lawson              Computer Science\n",
       "8      solum@dukes.jmu.edu     Mordin Solus            Geographic Science\n",
       "9     tayloj@dukes.jmu.edu     Jacob Taylor  Computer Infromation Systems\n",
       "10              s6@jmu.edu               s6                            ia"
      ]
     },
     "execution_count": 19,
     "metadata": {},
     "output_type": "execute_result"
    }
   ],
   "source": [
    "df_student=pandas.read_sql_query('select * from gp11.student',conn)\n",
    "df_student[:]"
   ]
  },
  {
   "cell_type": "code",
   "execution_count": 20,
   "id": "b3c6740d",
   "metadata": {},
   "outputs": [
    {
     "name": "stdout",
     "output_type": "stream",
     "text": [
      "\n",
      "               delete from gp11.student\n",
      "               where s_email = 's6@jmu.edu'\n",
      "                                \n",
      "                \n"
     ]
    }
   ],
   "source": [
    "sql_statement = \"\"\"\n",
    "               delete from gp11.student\n",
    "               where s_email = '{}'\n",
    "                                \n",
    "                \"\"\".format('s6@jmu.edu','s6','ia')\n",
    "\n",
    "print(sql_statement)"
   ]
  },
  {
   "cell_type": "code",
   "execution_count": 22,
   "id": "b73b76b4",
   "metadata": {},
   "outputs": [],
   "source": [
    "cur.execute(sql_statement)"
   ]
  },
  {
   "cell_type": "code",
   "execution_count": 26,
   "id": "7364f5aa",
   "metadata": {},
   "outputs": [],
   "source": [
    "conn.rollback()"
   ]
  },
  {
   "cell_type": "code",
   "execution_count": 27,
   "id": "9be8604b",
   "metadata": {},
   "outputs": [],
   "source": [
    "conn.commit()"
   ]
  },
  {
   "cell_type": "code",
   "execution_count": 28,
   "id": "135ed1ed",
   "metadata": {},
   "outputs": [
    {
     "data": {
      "text/html": [
       "<div>\n",
       "<style scoped>\n",
       "    .dataframe tbody tr th:only-of-type {\n",
       "        vertical-align: middle;\n",
       "    }\n",
       "\n",
       "    .dataframe tbody tr th {\n",
       "        vertical-align: top;\n",
       "    }\n",
       "\n",
       "    .dataframe thead th {\n",
       "        text-align: right;\n",
       "    }\n",
       "</style>\n",
       "<table border=\"1\" class=\"dataframe\">\n",
       "  <thead>\n",
       "    <tr style=\"text-align: right;\">\n",
       "      <th></th>\n",
       "      <th>s_email</th>\n",
       "      <th>s_name</th>\n",
       "      <th>major</th>\n",
       "    </tr>\n",
       "  </thead>\n",
       "  <tbody>\n",
       "    <tr>\n",
       "      <th>0</th>\n",
       "      <td>sheparj@dukes.jmu.edu</td>\n",
       "      <td>Jane Shepard</td>\n",
       "      <td>Intelligence Analysis</td>\n",
       "    </tr>\n",
       "    <tr>\n",
       "      <th>1</th>\n",
       "      <td>wreu@dukes.jmu.edu</td>\n",
       "      <td>Urdnot Wrex</td>\n",
       "      <td>Computer Science</td>\n",
       "    </tr>\n",
       "    <tr>\n",
       "      <th>2</th>\n",
       "      <td>vakariag@dukes.jmu.edu</td>\n",
       "      <td>Garrus Vakarian</td>\n",
       "      <td>Intelligence Analysis</td>\n",
       "    </tr>\n",
       "    <tr>\n",
       "      <th>3</th>\n",
       "      <td>tsonl@dukes.jmu.edu</td>\n",
       "      <td>Liara T'Soni</td>\n",
       "      <td>Geographic Science</td>\n",
       "    </tr>\n",
       "    <tr>\n",
       "      <th>4</th>\n",
       "      <td>alenkk@dukes.jmu.edu</td>\n",
       "      <td>Kaiden Alenko</td>\n",
       "      <td>Intelligence Anlaysis</td>\n",
       "    </tr>\n",
       "    <tr>\n",
       "      <th>5</th>\n",
       "      <td>kriot@dukes.jmu.edu</td>\n",
       "      <td>Thane Krios</td>\n",
       "      <td>Computer Information Systems</td>\n",
       "    </tr>\n",
       "    <tr>\n",
       "      <th>6</th>\n",
       "      <td>gotk@dukes.jmu.edu</td>\n",
       "      <td>Kasumi Goto</td>\n",
       "      <td>Intelligence Analysis</td>\n",
       "    </tr>\n",
       "    <tr>\n",
       "      <th>7</th>\n",
       "      <td>lawsom@dukes.jmu.edu</td>\n",
       "      <td>Miranda Lawson</td>\n",
       "      <td>Computer Science</td>\n",
       "    </tr>\n",
       "    <tr>\n",
       "      <th>8</th>\n",
       "      <td>solum@dukes.jmu.edu</td>\n",
       "      <td>Mordin Solus</td>\n",
       "      <td>Geographic Science</td>\n",
       "    </tr>\n",
       "    <tr>\n",
       "      <th>9</th>\n",
       "      <td>tayloj@dukes.jmu.edu</td>\n",
       "      <td>Jacob Taylor</td>\n",
       "      <td>Computer Infromation Systems</td>\n",
       "    </tr>\n",
       "    <tr>\n",
       "      <th>10</th>\n",
       "      <td>s6@jmu.edu</td>\n",
       "      <td>s6</td>\n",
       "      <td>ia</td>\n",
       "    </tr>\n",
       "  </tbody>\n",
       "</table>\n",
       "</div>"
      ],
      "text/plain": [
       "                   s_email           s_name                         major\n",
       "0    sheparj@dukes.jmu.edu     Jane Shepard         Intelligence Analysis\n",
       "1       wreu@dukes.jmu.edu      Urdnot Wrex              Computer Science\n",
       "2   vakariag@dukes.jmu.edu  Garrus Vakarian         Intelligence Analysis\n",
       "3      tsonl@dukes.jmu.edu     Liara T'Soni            Geographic Science\n",
       "4     alenkk@dukes.jmu.edu    Kaiden Alenko         Intelligence Anlaysis\n",
       "5      kriot@dukes.jmu.edu      Thane Krios  Computer Information Systems\n",
       "6       gotk@dukes.jmu.edu      Kasumi Goto         Intelligence Analysis\n",
       "7     lawsom@dukes.jmu.edu   Miranda Lawson              Computer Science\n",
       "8      solum@dukes.jmu.edu     Mordin Solus            Geographic Science\n",
       "9     tayloj@dukes.jmu.edu     Jacob Taylor  Computer Infromation Systems\n",
       "10              s6@jmu.edu               s6                            ia"
      ]
     },
     "execution_count": 28,
     "metadata": {},
     "output_type": "execute_result"
    }
   ],
   "source": [
    "df_student=pandas.read_sql_query('select * from gp11.student',conn)\n",
    "df_student[:]"
   ]
  },
  {
   "cell_type": "code",
   "execution_count": 5,
   "id": "150d41f8",
   "metadata": {},
   "outputs": [],
   "source": [
    "cur.close()"
   ]
  },
  {
   "cell_type": "code",
   "execution_count": 6,
   "id": "d648f493",
   "metadata": {},
   "outputs": [],
   "source": [
    "conn.close()"
   ]
  },
  {
   "cell_type": "code",
   "execution_count": null,
   "id": "77cf9be4",
   "metadata": {},
   "outputs": [],
   "source": []
  }
 ],
 "metadata": {
  "kernelspec": {
   "display_name": "conda_python3",
   "language": "python",
   "name": "conda_python3"
  },
  "language_info": {
   "codemirror_mode": {
    "name": "ipython",
    "version": 3
   },
   "file_extension": ".py",
   "mimetype": "text/x-python",
   "name": "python",
   "nbconvert_exporter": "python",
   "pygments_lexer": "ipython3",
   "version": "3.6.13"
  }
 },
 "nbformat": 4,
 "nbformat_minor": 5
}
