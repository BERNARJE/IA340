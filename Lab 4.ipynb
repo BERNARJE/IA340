{
 "cells": [
  {
   "cell_type": "markdown",
   "id": "c6c02bae",
   "metadata": {},
   "source": [
    "## Lab 4"
   ]
  },
  {
   "cell_type": "markdown",
   "id": "ad05c2f4",
   "metadata": {},
   "source": [
    "## Import libs and connect to database"
   ]
  },
  {
   "cell_type": "code",
   "execution_count": 34,
   "id": "9887ea72",
   "metadata": {},
   "outputs": [],
   "source": [
    "import pandas\n",
    "import configparser\n",
    "import psycopg2"
   ]
  },
  {
   "cell_type": "markdown",
   "id": "bf1db9ff",
   "metadata": {},
   "source": [
    "## Connect to Database"
   ]
  },
  {
   "cell_type": "code",
   "execution_count": 35,
   "id": "bafae262",
   "metadata": {},
   "outputs": [],
   "source": [
    "config = configparser.ConfigParser()\n",
    "config.read('config.ini')\n",
    "\n",
    "host=config['myaws']['host']\n",
    "db=config['myaws']['db']\n",
    "user=config['myaws']['user']\n",
    "pwd = config['myaws']['pwd']\n",
    "\n",
    "conn = psycopg2.connect(  host=host,\n",
    "                       user=user,\n",
    "                       password = pwd,\n",
    "                       dbname=db)"
   ]
  },
  {
   "cell_type": "code",
   "execution_count": 36,
   "id": "ca824549",
   "metadata": {},
   "outputs": [],
   "source": [
    "cur=conn.cursor()"
   ]
  },
  {
   "cell_type": "markdown",
   "id": "12f06d2a",
   "metadata": {},
   "source": [
    "## Question 1"
   ]
  },
  {
   "cell_type": "code",
   "execution_count": 37,
   "id": "35488e5a",
   "metadata": {},
   "outputs": [],
   "source": [
    "sq1_q1 = \"\"\"\n",
    "        select * from gp11.student\n",
    "        \"\"\""
   ]
  },
  {
   "cell_type": "code",
   "execution_count": 38,
   "id": "22a5cd67",
   "metadata": {},
   "outputs": [
    {
     "data": {
      "text/html": [
       "<div>\n",
       "<style scoped>\n",
       "    .dataframe tbody tr th:only-of-type {\n",
       "        vertical-align: middle;\n",
       "    }\n",
       "\n",
       "    .dataframe tbody tr th {\n",
       "        vertical-align: top;\n",
       "    }\n",
       "\n",
       "    .dataframe thead th {\n",
       "        text-align: right;\n",
       "    }\n",
       "</style>\n",
       "<table border=\"1\" class=\"dataframe\">\n",
       "  <thead>\n",
       "    <tr style=\"text-align: right;\">\n",
       "      <th></th>\n",
       "      <th>s_email</th>\n",
       "      <th>s_name</th>\n",
       "      <th>major</th>\n",
       "    </tr>\n",
       "  </thead>\n",
       "  <tbody>\n",
       "    <tr>\n",
       "      <th>0</th>\n",
       "      <td>sheparj@dukes.jmu.edu</td>\n",
       "      <td>Jane Shepard</td>\n",
       "      <td>Intelligence Analysis</td>\n",
       "    </tr>\n",
       "    <tr>\n",
       "      <th>1</th>\n",
       "      <td>wreu@dukes.jmu.edu</td>\n",
       "      <td>Urdnot Wrex</td>\n",
       "      <td>Computer Science</td>\n",
       "    </tr>\n",
       "    <tr>\n",
       "      <th>2</th>\n",
       "      <td>vakariag@dukes.jmu.edu</td>\n",
       "      <td>Garrus Vakarian</td>\n",
       "      <td>Intelligence Analysis</td>\n",
       "    </tr>\n",
       "    <tr>\n",
       "      <th>3</th>\n",
       "      <td>tsonl@dukes.jmu.edu</td>\n",
       "      <td>Liara T'Soni</td>\n",
       "      <td>Geographic Science</td>\n",
       "    </tr>\n",
       "    <tr>\n",
       "      <th>4</th>\n",
       "      <td>alenkk@dukes.jmu.edu</td>\n",
       "      <td>Kaiden Alenko</td>\n",
       "      <td>Intelligence Anlaysis</td>\n",
       "    </tr>\n",
       "    <tr>\n",
       "      <th>5</th>\n",
       "      <td>kriot@dukes.jmu.edu</td>\n",
       "      <td>Thane Krios</td>\n",
       "      <td>Computer Information Systems</td>\n",
       "    </tr>\n",
       "    <tr>\n",
       "      <th>6</th>\n",
       "      <td>gotk@dukes.jmu.edu</td>\n",
       "      <td>Kasumi Goto</td>\n",
       "      <td>Intelligence Analysis</td>\n",
       "    </tr>\n",
       "    <tr>\n",
       "      <th>7</th>\n",
       "      <td>lawsom@dukes.jmu.edu</td>\n",
       "      <td>Miranda Lawson</td>\n",
       "      <td>Computer Science</td>\n",
       "    </tr>\n",
       "    <tr>\n",
       "      <th>8</th>\n",
       "      <td>solum@dukes.jmu.edu</td>\n",
       "      <td>Mordin Solus</td>\n",
       "      <td>Geographic Science</td>\n",
       "    </tr>\n",
       "    <tr>\n",
       "      <th>9</th>\n",
       "      <td>tayloj@dukes.jmu.edu</td>\n",
       "      <td>Jacob Taylor</td>\n",
       "      <td>Computer Infromation Systems</td>\n",
       "    </tr>\n",
       "    <tr>\n",
       "      <th>10</th>\n",
       "      <td>s6@jmu.edu</td>\n",
       "      <td>s6</td>\n",
       "      <td>ia</td>\n",
       "    </tr>\n",
       "  </tbody>\n",
       "</table>\n",
       "</div>"
      ],
      "text/plain": [
       "                   s_email           s_name                         major\n",
       "0    sheparj@dukes.jmu.edu     Jane Shepard         Intelligence Analysis\n",
       "1       wreu@dukes.jmu.edu      Urdnot Wrex              Computer Science\n",
       "2   vakariag@dukes.jmu.edu  Garrus Vakarian         Intelligence Analysis\n",
       "3      tsonl@dukes.jmu.edu     Liara T'Soni            Geographic Science\n",
       "4     alenkk@dukes.jmu.edu    Kaiden Alenko         Intelligence Anlaysis\n",
       "5      kriot@dukes.jmu.edu      Thane Krios  Computer Information Systems\n",
       "6       gotk@dukes.jmu.edu      Kasumi Goto         Intelligence Analysis\n",
       "7     lawsom@dukes.jmu.edu   Miranda Lawson              Computer Science\n",
       "8      solum@dukes.jmu.edu     Mordin Solus            Geographic Science\n",
       "9     tayloj@dukes.jmu.edu     Jacob Taylor  Computer Infromation Systems\n",
       "10              s6@jmu.edu               s6                            ia"
      ]
     },
     "execution_count": 38,
     "metadata": {},
     "output_type": "execute_result"
    }
   ],
   "source": [
    "df_student=pandas.read_sql_query('select * from gp11.student',conn)\n",
    "df_student[:]"
   ]
  },
  {
   "cell_type": "markdown",
   "id": "7bab814a",
   "metadata": {},
   "source": [
    "## Question 2"
   ]
  },
  {
   "cell_type": "code",
   "execution_count": 39,
   "id": "9bb86d1b",
   "metadata": {},
   "outputs": [],
   "source": [
    "sq1_q2 = \"\"\"\n",
    "        select gp11.professor.p_name,\n",
    "        gp11.course.c_name\n",
    "        from gp11.professor\n",
    "        inner join gp11.course\n",
    "        on gp11.professor.p_email = gp11.course.p_email\n",
    "        \"\"\""
   ]
  },
  {
   "cell_type": "code",
   "execution_count": 40,
   "id": "6d74ae5b",
   "metadata": {},
   "outputs": [
    {
     "data": {
      "text/html": [
       "<div>\n",
       "<style scoped>\n",
       "    .dataframe tbody tr th:only-of-type {\n",
       "        vertical-align: middle;\n",
       "    }\n",
       "\n",
       "    .dataframe tbody tr th {\n",
       "        vertical-align: top;\n",
       "    }\n",
       "\n",
       "    .dataframe thead th {\n",
       "        text-align: right;\n",
       "    }\n",
       "</style>\n",
       "<table border=\"1\" class=\"dataframe\">\n",
       "  <thead>\n",
       "    <tr style=\"text-align: right;\">\n",
       "      <th></th>\n",
       "      <th>p_name</th>\n",
       "      <th>c_name</th>\n",
       "    </tr>\n",
       "  </thead>\n",
       "  <tbody>\n",
       "    <tr>\n",
       "      <th>0</th>\n",
       "      <td>Dr. Noel Hendrickson</td>\n",
       "      <td>Introduction to Intelligence Analysis</td>\n",
       "    </tr>\n",
       "    <tr>\n",
       "      <th>1</th>\n",
       "      <td>Dr. Timothy Walton</td>\n",
       "      <td>Hypothesis Testing</td>\n",
       "    </tr>\n",
       "    <tr>\n",
       "      <th>2</th>\n",
       "      <td>Dr. Noel Hendrickson</td>\n",
       "      <td>COUNTERFACTUAL REASONING</td>\n",
       "    </tr>\n",
       "    <tr>\n",
       "      <th>3</th>\n",
       "      <td>Dr. Xuebin Wei</td>\n",
       "      <td>Data Mining, Modeling and Knowledge Discovery</td>\n",
       "    </tr>\n",
       "    <tr>\n",
       "      <th>4</th>\n",
       "      <td>Dr. John Robinson</td>\n",
       "      <td>ETHICS, LAW AND INTELLIGENCE ANALYSIS</td>\n",
       "    </tr>\n",
       "    <tr>\n",
       "      <th>5</th>\n",
       "      <td>Dr. Jeff Tang</td>\n",
       "      <td>INTELLIGENCE ANALYSIS CAPSTONE PROJECT PREPARA...</td>\n",
       "    </tr>\n",
       "    <tr>\n",
       "      <th>6</th>\n",
       "      <td>Dr. Ron Raab</td>\n",
       "      <td>AWARENESS AND UNDERSTANDING OF WMDs</td>\n",
       "    </tr>\n",
       "    <tr>\n",
       "      <th>7</th>\n",
       "      <td>Dr. Stephen Marrin</td>\n",
       "      <td>SEMINAR ON ISSUES IN INTELLIGENCE ANALYSIS</td>\n",
       "    </tr>\n",
       "    <tr>\n",
       "      <th>8</th>\n",
       "      <td>new_p</td>\n",
       "      <td>c_new_name</td>\n",
       "    </tr>\n",
       "    <tr>\n",
       "      <th>9</th>\n",
       "      <td>new_p</td>\n",
       "      <td>Selected Topics in Intelligence Analysis</td>\n",
       "    </tr>\n",
       "  </tbody>\n",
       "</table>\n",
       "</div>"
      ],
      "text/plain": [
       "                 p_name                                             c_name\n",
       "0  Dr. Noel Hendrickson             Introduction to Intelligence Analysis \n",
       "1    Dr. Timothy Walton                                Hypothesis Testing \n",
       "2  Dr. Noel Hendrickson                          COUNTERFACTUAL REASONING \n",
       "3        Dr. Xuebin Wei     Data Mining, Modeling and Knowledge Discovery \n",
       "4     Dr. John Robinson             ETHICS, LAW AND INTELLIGENCE ANALYSIS \n",
       "5         Dr. Jeff Tang  INTELLIGENCE ANALYSIS CAPSTONE PROJECT PREPARA...\n",
       "6          Dr. Ron Raab                AWARENESS AND UNDERSTANDING OF WMDs\n",
       "7    Dr. Stephen Marrin        SEMINAR ON ISSUES IN INTELLIGENCE ANALYSIS \n",
       "8                 new_p                                         c_new_name\n",
       "9                 new_p          Selected Topics in Intelligence Analysis "
      ]
     },
     "execution_count": 40,
     "metadata": {},
     "output_type": "execute_result"
    }
   ],
   "source": [
    "df=pandas.read_sql_query(sq1_q2,conn)\n",
    "df[:]"
   ]
  },
  {
   "cell_type": "markdown",
   "id": "26dc4df3",
   "metadata": {},
   "source": [
    "## Question 3"
   ]
  },
  {
   "cell_type": "code",
   "execution_count": 41,
   "id": "eedb0ee3",
   "metadata": {},
   "outputs": [],
   "source": [
    "sq1_q3 = \"\"\"\n",
    "        select c_number,\n",
    "        count(c_number) as enrolled\n",
    "        from gp11.enroll_list\n",
    "        group by c_number\n",
    "        order by enrolled desc\n",
    "        \"\"\""
   ]
  },
  {
   "cell_type": "code",
   "execution_count": 42,
   "id": "9b4e5fee",
   "metadata": {},
   "outputs": [
    {
     "data": {
      "text/plain": [
       "<AxesSubplot:xlabel='c_number'>"
      ]
     },
     "execution_count": 42,
     "metadata": {},
     "output_type": "execute_result"
    },
    {
     "data": {
      "image/png": "[encoded data removed]",
      "text/plain": [
       "<Figure size 432x288 with 1 Axes>"
      ]
     },
     "metadata": {
      "needs_background": "light"
     },
     "output_type": "display_data"
    }
   ],
   "source": [
    "df=pandas.read_sql_query(sq1_q3,conn)\n",
    "df.plot.bar(y='enrolled', x='c_number')"
   ]
  },
  {
   "cell_type": "markdown",
   "id": "b31258d4",
   "metadata": {},
   "source": [
    "## Question 4"
   ]
  },
  {
   "cell_type": "code",
   "execution_count": 43,
   "id": "8d11aae9",
   "metadata": {},
   "outputs": [],
   "source": [
    "sq1_q4 = \"\"\"\n",
    "        select gp11.professor.p_name,\n",
    "        count(gp11.course.c_name) as teaching_number\n",
    "        from gp11.professor\n",
    "        inner join gp11.course\n",
    "        on gp11.professor.p_email = gp11.course.p_email\n",
    "        group by professor.p_name\n",
    "        order by teaching_number desc\n",
    "        \"\"\""
   ]
  },
  {
   "cell_type": "code",
   "execution_count": 44,
   "id": "ccc4af67",
   "metadata": {},
   "outputs": [
    {
     "data": {
      "text/plain": [
       "<AxesSubplot:xlabel='p_name'>"
      ]
     },
     "execution_count": 44,
     "metadata": {},
     "output_type": "execute_result"
    },
    {
     "data": {
      "image/png": "[encoded data removed]",
      "text/plain": [
       "<Figure size 432x288 with 1 Axes>"
      ]
     },
     "metadata": {
      "needs_background": "light"
     },
     "output_type": "display_data"
    }
   ],
   "source": [
    "df = pandas.read_sql_query(sq1_q4,conn)\n",
    "df.plot.bar(y='teaching_number',x='p_name')"
   ]
  },
  {
   "cell_type": "markdown",
   "id": "3ebdc535",
   "metadata": {},
   "source": [
    "## Question 5"
   ]
  },
  {
   "cell_type": "code",
   "execution_count": 63,
   "id": "87b0c745",
   "metadata": {},
   "outputs": [],
   "source": [
    "sql_q5_professor = \"\"\"\n",
    "        insert into gp11.professor(p_email,p_name,office)\n",
    "        values('{}','{}','{}')\n",
    "        \"\"\".format('new_p@jmu.edu','new_p','new_of23e')"
   ]
  },
  {
   "cell_type": "code",
   "execution_count": 64,
   "id": "e7c749c3",
   "metadata": {},
   "outputs": [],
   "source": [
    "cur.execute(sql_q5_professor)"
   ]
  },
  {
   "cell_type": "code",
   "execution_count": 65,
   "id": "47fbe42f",
   "metadata": {},
   "outputs": [],
   "source": [
    "conn.commit()"
   ]
  },
  {
   "cell_type": "code",
   "execution_count": 66,
   "id": "9d07b4d0",
   "metadata": {
    "scrolled": true
   },
   "outputs": [
    {
     "data": {
      "text/html": [
       "<div>\n",
       "<style scoped>\n",
       "    .dataframe tbody tr th:only-of-type {\n",
       "        vertical-align: middle;\n",
       "    }\n",
       "\n",
       "    .dataframe tbody tr th {\n",
       "        vertical-align: top;\n",
       "    }\n",
       "\n",
       "    .dataframe thead th {\n",
       "        text-align: right;\n",
       "    }\n",
       "</style>\n",
       "<table border=\"1\" class=\"dataframe\">\n",
       "  <thead>\n",
       "    <tr style=\"text-align: right;\">\n",
       "      <th></th>\n",
       "      <th>p_email</th>\n",
       "      <th>p_name</th>\n",
       "      <th>office</th>\n",
       "    </tr>\n",
       "  </thead>\n",
       "  <tbody>\n",
       "    <tr>\n",
       "      <th>0</th>\n",
       "      <td>hendrinx@jmu.edu</td>\n",
       "      <td>Dr. Noel Hendrickson</td>\n",
       "      <td>ISAT/CS 317</td>\n",
       "    </tr>\n",
       "    <tr>\n",
       "      <th>1</th>\n",
       "      <td>waltontr@jmu.edu</td>\n",
       "      <td>Dr. Timothy Walton</td>\n",
       "      <td>ISAT/CS 326</td>\n",
       "    </tr>\n",
       "    <tr>\n",
       "      <th>2</th>\n",
       "      <td>weixx@jmu.edu</td>\n",
       "      <td>Dr. Xuebin Wei</td>\n",
       "      <td>ISAT/CS 112</td>\n",
       "    </tr>\n",
       "    <tr>\n",
       "      <th>3</th>\n",
       "      <td>marrinsp@jmu.edu</td>\n",
       "      <td>Dr. Stephen Marrin</td>\n",
       "      <td>EnGeo 2104</td>\n",
       "    </tr>\n",
       "    <tr>\n",
       "      <th>4</th>\n",
       "      <td>raabrw@jmu.edu</td>\n",
       "      <td>Dr. Ron Raab</td>\n",
       "      <td>ISAT/CS 156</td>\n",
       "    </tr>\n",
       "    <tr>\n",
       "      <th>5</th>\n",
       "      <td>robinsja@jmu.edu</td>\n",
       "      <td>Dr. John Robinson</td>\n",
       "      <td>ISAT/CS 127</td>\n",
       "    </tr>\n",
       "    <tr>\n",
       "      <th>6</th>\n",
       "      <td>tangjd@jmu.edu</td>\n",
       "      <td>Dr. Jeff Tang</td>\n",
       "      <td>ISAT/CS 368</td>\n",
       "    </tr>\n",
       "    <tr>\n",
       "      <th>7</th>\n",
       "      <td>new_p@jmu</td>\n",
       "      <td>new_p</td>\n",
       "      <td>new_office</td>\n",
       "    </tr>\n",
       "    <tr>\n",
       "      <th>8</th>\n",
       "      <td>new_p@jmu.edu</td>\n",
       "      <td>new_p</td>\n",
       "      <td>new_of23e</td>\n",
       "    </tr>\n",
       "  </tbody>\n",
       "</table>\n",
       "</div>"
      ],
      "text/plain": [
       "            p_email                p_name       office\n",
       "0  hendrinx@jmu.edu  Dr. Noel Hendrickson  ISAT/CS 317\n",
       "1  waltontr@jmu.edu    Dr. Timothy Walton  ISAT/CS 326\n",
       "2     weixx@jmu.edu        Dr. Xuebin Wei  ISAT/CS 112\n",
       "3  marrinsp@jmu.edu    Dr. Stephen Marrin   EnGeo 2104\n",
       "4    raabrw@jmu.edu          Dr. Ron Raab  ISAT/CS 156\n",
       "5  robinsja@jmu.edu     Dr. John Robinson  ISAT/CS 127\n",
       "6    tangjd@jmu.edu         Dr. Jeff Tang  ISAT/CS 368\n",
       "7         new_p@jmu                 new_p   new_office\n",
       "8     new_p@jmu.edu                 new_p    new_of23e"
      ]
     },
     "execution_count": 66,
     "metadata": {},
     "output_type": "execute_result"
    }
   ],
   "source": [
    "df = pandas.read_sql_query('select * from gp11.professor',conn)\n",
    "df[:]"
   ]
  },
  {
   "cell_type": "code",
   "execution_count": 67,
   "id": "a2818bf1",
   "metadata": {},
   "outputs": [],
   "source": [
    "sql_q5_course = \"\"\"\n",
    "        insert into gp11.course(c_number,c_name,room,p_email)\n",
    "        values('{}','{}','{}','{}')\n",
    "        \"\"\".format('ia_new','new_c_name','online',\"new_p@jmu.edu\")"
   ]
  },
  {
   "cell_type": "code",
   "execution_count": 68,
   "id": "bdef5350",
   "metadata": {},
   "outputs": [],
   "source": [
    "cur.execute(sql_q5_course)"
   ]
  },
  {
   "cell_type": "code",
   "execution_count": 69,
   "id": "e47ef2cc",
   "metadata": {},
   "outputs": [],
   "source": [
    "conn.commit()"
   ]
  },
  {
   "cell_type": "code",
   "execution_count": 70,
   "id": "9baa31f4",
   "metadata": {},
   "outputs": [
    {
     "data": {
      "text/html": [
       "<div>\n",
       "<style scoped>\n",
       "    .dataframe tbody tr th:only-of-type {\n",
       "        vertical-align: middle;\n",
       "    }\n",
       "\n",
       "    .dataframe tbody tr th {\n",
       "        vertical-align: top;\n",
       "    }\n",
       "\n",
       "    .dataframe thead th {\n",
       "        text-align: right;\n",
       "    }\n",
       "</style>\n",
       "<table border=\"1\" class=\"dataframe\">\n",
       "  <thead>\n",
       "    <tr style=\"text-align: right;\">\n",
       "      <th></th>\n",
       "      <th>c_number</th>\n",
       "      <th>c_name</th>\n",
       "      <th>room</th>\n",
       "      <th>p_email</th>\n",
       "    </tr>\n",
       "  </thead>\n",
       "  <tbody>\n",
       "    <tr>\n",
       "      <th>0</th>\n",
       "      <td>IA 150</td>\n",
       "      <td>Introduction to Intelligence Analysis</td>\n",
       "      <td>EnGeo 2301</td>\n",
       "      <td>hendrinx@jmu.edu</td>\n",
       "    </tr>\n",
       "    <tr>\n",
       "      <th>1</th>\n",
       "      <td>IA 261\\n</td>\n",
       "      <td>Hypothesis Testing</td>\n",
       "      <td>ISAT/CS 0136</td>\n",
       "      <td>waltontr@jmu.edu</td>\n",
       "    </tr>\n",
       "    <tr>\n",
       "      <th>2</th>\n",
       "      <td>IA 313</td>\n",
       "      <td>COUNTERFACTUAL REASONING</td>\n",
       "      <td>EnGeo 1204</td>\n",
       "      <td>hendrinx@jmu.edu</td>\n",
       "    </tr>\n",
       "    <tr>\n",
       "      <th>3</th>\n",
       "      <td>IA 340</td>\n",
       "      <td>Data Mining, Modeling and Knowledge Discovery</td>\n",
       "      <td>ISAT/CS 0336</td>\n",
       "      <td>weixx@jmu.edu</td>\n",
       "    </tr>\n",
       "    <tr>\n",
       "      <th>4</th>\n",
       "      <td>IA 405</td>\n",
       "      <td>ETHICS, LAW AND INTELLIGENCE ANALYSIS</td>\n",
       "      <td>ISAT/CS 0150</td>\n",
       "      <td>robinsja@jmu.edu</td>\n",
       "    </tr>\n",
       "    <tr>\n",
       "      <th>5</th>\n",
       "      <td>IA 440\\n</td>\n",
       "      <td>INTELLIGENCE ANALYSIS CAPSTONE PROJECT PREPARA...</td>\n",
       "      <td>ISAT/CS 3048</td>\n",
       "      <td>tangjd@jmu.edu</td>\n",
       "    </tr>\n",
       "    <tr>\n",
       "      <th>6</th>\n",
       "      <td>IA 459</td>\n",
       "      <td>AWARENESS AND UNDERSTANDING OF WMDs</td>\n",
       "      <td>EnGeo 1302</td>\n",
       "      <td>raabrw@jmu.edu</td>\n",
       "    </tr>\n",
       "    <tr>\n",
       "      <th>7</th>\n",
       "      <td>IA 300</td>\n",
       "      <td>SEMINAR ON ISSUES IN INTELLIGENCE ANALYSIS</td>\n",
       "      <td>ISAT/CS 0150</td>\n",
       "      <td>marrinsp@jmu.edu</td>\n",
       "    </tr>\n",
       "    <tr>\n",
       "      <th>8</th>\n",
       "      <td>c_new_number</td>\n",
       "      <td>c_new_name</td>\n",
       "      <td>c_new_room</td>\n",
       "      <td>new_p@jmu</td>\n",
       "    </tr>\n",
       "    <tr>\n",
       "      <th>9</th>\n",
       "      <td>IA 480</td>\n",
       "      <td>Selected Topics in Intelligence Analysis</td>\n",
       "      <td>ISAT/CS 0148</td>\n",
       "      <td>new_p@jmu</td>\n",
       "    </tr>\n",
       "    <tr>\n",
       "      <th>10</th>\n",
       "      <td>ia_new</td>\n",
       "      <td>new_c_name</td>\n",
       "      <td>online</td>\n",
       "      <td>new_p@jmu.edu</td>\n",
       "    </tr>\n",
       "  </tbody>\n",
       "</table>\n",
       "</div>"
      ],
      "text/plain": [
       "        c_number                                             c_name  \\\n",
       "0         IA 150             Introduction to Intelligence Analysis    \n",
       "1       IA 261\\n                                Hypothesis Testing    \n",
       "2         IA 313                          COUNTERFACTUAL REASONING    \n",
       "3         IA 340     Data Mining, Modeling and Knowledge Discovery    \n",
       "4         IA 405             ETHICS, LAW AND INTELLIGENCE ANALYSIS    \n",
       "5       IA 440\\n  INTELLIGENCE ANALYSIS CAPSTONE PROJECT PREPARA...   \n",
       "6         IA 459                AWARENESS AND UNDERSTANDING OF WMDs   \n",
       "7         IA 300        SEMINAR ON ISSUES IN INTELLIGENCE ANALYSIS    \n",
       "8   c_new_number                                         c_new_name   \n",
       "9         IA 480          Selected Topics in Intelligence Analysis    \n",
       "10        ia_new                                         new_c_name   \n",
       "\n",
       "            room           p_email  \n",
       "0     EnGeo 2301  hendrinx@jmu.edu  \n",
       "1   ISAT/CS 0136  waltontr@jmu.edu  \n",
       "2     EnGeo 1204  hendrinx@jmu.edu  \n",
       "3   ISAT/CS 0336     weixx@jmu.edu  \n",
       "4   ISAT/CS 0150  robinsja@jmu.edu  \n",
       "5   ISAT/CS 3048    tangjd@jmu.edu  \n",
       "6     EnGeo 1302    raabrw@jmu.edu  \n",
       "7   ISAT/CS 0150  marrinsp@jmu.edu  \n",
       "8     c_new_room         new_p@jmu  \n",
       "9   ISAT/CS 0148         new_p@jmu  \n",
       "10        online     new_p@jmu.edu  "
      ]
     },
     "execution_count": 70,
     "metadata": {},
     "output_type": "execute_result"
    }
   ],
   "source": [
    "df = pandas.read_sql_query('select * from gp11.course',conn)\n",
    "df[:]"
   ]
  },
  {
   "cell_type": "markdown",
   "id": "d0826155",
   "metadata": {},
   "source": [
    "## Question 6"
   ]
  },
  {
   "cell_type": "code",
   "execution_count": 77,
   "id": "a3331154",
   "metadata": {},
   "outputs": [],
   "source": [
    "sql_q6_course = \"\"\"\n",
    "        update gp11.course\n",
    "        set p_email = '{}'\n",
    "        where p_email = '{}'\n",
    "        \"\"\".format('new_p@jmu.edu','weixx@jmu.edu')"
   ]
  },
  {
   "cell_type": "code",
   "execution_count": 78,
   "id": "399eb57b",
   "metadata": {},
   "outputs": [],
   "source": [
    "cur.execute(sql_q6_course)"
   ]
  },
  {
   "cell_type": "code",
   "execution_count": 79,
   "id": "66bb9e1f",
   "metadata": {},
   "outputs": [],
   "source": [
    "conn.commit()"
   ]
  },
  {
   "cell_type": "code",
   "execution_count": 80,
   "id": "51851a27",
   "metadata": {},
   "outputs": [
    {
     "data": {
      "text/html": [
       "<div>\n",
       "<style scoped>\n",
       "    .dataframe tbody tr th:only-of-type {\n",
       "        vertical-align: middle;\n",
       "    }\n",
       "\n",
       "    .dataframe tbody tr th {\n",
       "        vertical-align: top;\n",
       "    }\n",
       "\n",
       "    .dataframe thead th {\n",
       "        text-align: right;\n",
       "    }\n",
       "</style>\n",
       "<table border=\"1\" class=\"dataframe\">\n",
       "  <thead>\n",
       "    <tr style=\"text-align: right;\">\n",
       "      <th></th>\n",
       "      <th>c_number</th>\n",
       "      <th>c_name</th>\n",
       "      <th>room</th>\n",
       "      <th>p_email</th>\n",
       "    </tr>\n",
       "  </thead>\n",
       "  <tbody>\n",
       "    <tr>\n",
       "      <th>0</th>\n",
       "      <td>IA 150</td>\n",
       "      <td>Introduction to Intelligence Analysis</td>\n",
       "      <td>EnGeo 2301</td>\n",
       "      <td>hendrinx@jmu.edu</td>\n",
       "    </tr>\n",
       "    <tr>\n",
       "      <th>1</th>\n",
       "      <td>IA 261\\n</td>\n",
       "      <td>Hypothesis Testing</td>\n",
       "      <td>ISAT/CS 0136</td>\n",
       "      <td>waltontr@jmu.edu</td>\n",
       "    </tr>\n",
       "    <tr>\n",
       "      <th>2</th>\n",
       "      <td>IA 313</td>\n",
       "      <td>COUNTERFACTUAL REASONING</td>\n",
       "      <td>EnGeo 1204</td>\n",
       "      <td>hendrinx@jmu.edu</td>\n",
       "    </tr>\n",
       "    <tr>\n",
       "      <th>3</th>\n",
       "      <td>IA 405</td>\n",
       "      <td>ETHICS, LAW AND INTELLIGENCE ANALYSIS</td>\n",
       "      <td>ISAT/CS 0150</td>\n",
       "      <td>robinsja@jmu.edu</td>\n",
       "    </tr>\n",
       "    <tr>\n",
       "      <th>4</th>\n",
       "      <td>IA 440\\n</td>\n",
       "      <td>INTELLIGENCE ANALYSIS CAPSTONE PROJECT PREPARA...</td>\n",
       "      <td>ISAT/CS 3048</td>\n",
       "      <td>tangjd@jmu.edu</td>\n",
       "    </tr>\n",
       "    <tr>\n",
       "      <th>5</th>\n",
       "      <td>IA 459</td>\n",
       "      <td>AWARENESS AND UNDERSTANDING OF WMDs</td>\n",
       "      <td>EnGeo 1302</td>\n",
       "      <td>raabrw@jmu.edu</td>\n",
       "    </tr>\n",
       "    <tr>\n",
       "      <th>6</th>\n",
       "      <td>IA 300</td>\n",
       "      <td>SEMINAR ON ISSUES IN INTELLIGENCE ANALYSIS</td>\n",
       "      <td>ISAT/CS 0150</td>\n",
       "      <td>marrinsp@jmu.edu</td>\n",
       "    </tr>\n",
       "    <tr>\n",
       "      <th>7</th>\n",
       "      <td>c_new_number</td>\n",
       "      <td>c_new_name</td>\n",
       "      <td>c_new_room</td>\n",
       "      <td>new_p@jmu</td>\n",
       "    </tr>\n",
       "    <tr>\n",
       "      <th>8</th>\n",
       "      <td>IA 480</td>\n",
       "      <td>Selected Topics in Intelligence Analysis</td>\n",
       "      <td>ISAT/CS 0148</td>\n",
       "      <td>new_p@jmu</td>\n",
       "    </tr>\n",
       "    <tr>\n",
       "      <th>9</th>\n",
       "      <td>ia_new</td>\n",
       "      <td>new_c_name</td>\n",
       "      <td>online</td>\n",
       "      <td>new_p@jmu.edu</td>\n",
       "    </tr>\n",
       "    <tr>\n",
       "      <th>10</th>\n",
       "      <td>IA 340</td>\n",
       "      <td>Data Mining, Modeling and Knowledge Discovery</td>\n",
       "      <td>ISAT/CS 0336</td>\n",
       "      <td>new_p@jmu.edu</td>\n",
       "    </tr>\n",
       "  </tbody>\n",
       "</table>\n",
       "</div>"
      ],
      "text/plain": [
       "        c_number                                             c_name  \\\n",
       "0         IA 150             Introduction to Intelligence Analysis    \n",
       "1       IA 261\\n                                Hypothesis Testing    \n",
       "2         IA 313                          COUNTERFACTUAL REASONING    \n",
       "3         IA 405             ETHICS, LAW AND INTELLIGENCE ANALYSIS    \n",
       "4       IA 440\\n  INTELLIGENCE ANALYSIS CAPSTONE PROJECT PREPARA...   \n",
       "5         IA 459                AWARENESS AND UNDERSTANDING OF WMDs   \n",
       "6         IA 300        SEMINAR ON ISSUES IN INTELLIGENCE ANALYSIS    \n",
       "7   c_new_number                                         c_new_name   \n",
       "8         IA 480          Selected Topics in Intelligence Analysis    \n",
       "9         ia_new                                         new_c_name   \n",
       "10        IA 340     Data Mining, Modeling and Knowledge Discovery    \n",
       "\n",
       "            room           p_email  \n",
       "0     EnGeo 2301  hendrinx@jmu.edu  \n",
       "1   ISAT/CS 0136  waltontr@jmu.edu  \n",
       "2     EnGeo 1204  hendrinx@jmu.edu  \n",
       "3   ISAT/CS 0150  robinsja@jmu.edu  \n",
       "4   ISAT/CS 3048    tangjd@jmu.edu  \n",
       "5     EnGeo 1302    raabrw@jmu.edu  \n",
       "6   ISAT/CS 0150  marrinsp@jmu.edu  \n",
       "7     c_new_room         new_p@jmu  \n",
       "8   ISAT/CS 0148         new_p@jmu  \n",
       "9         online     new_p@jmu.edu  \n",
       "10  ISAT/CS 0336     new_p@jmu.edu  "
      ]
     },
     "execution_count": 80,
     "metadata": {},
     "output_type": "execute_result"
    }
   ],
   "source": [
    "df = pandas.read_sql_query('select * from gp11.course',conn)\n",
    "df[:]"
   ]
  },
  {
   "cell_type": "code",
   "execution_count": 76,
   "id": "4c29c6f4",
   "metadata": {},
   "outputs": [],
   "source": [
    "conn.rollback()"
   ]
  },
  {
   "cell_type": "markdown",
   "id": "7f16412b",
   "metadata": {},
   "source": [
    "## Close Connection"
   ]
  },
  {
   "cell_type": "code",
   "execution_count": 81,
   "id": "31e18c88",
   "metadata": {},
   "outputs": [],
   "source": [
    "cur.close()\n",
    "conn.close()"
   ]
  },
  {
   "cell_type": "code",
   "execution_count": null,
   "id": "c380fe5f",
   "metadata": {},
   "outputs": [],
   "source": []
  }
 ],
 "metadata": {
  "kernelspec": {
   "display_name": "conda_python3",
   "language": "python",
   "name": "conda_python3"
  },
  "language_info": {
   "codemirror_mode": {
    "name": "ipython",
    "version": 3
   },
   "file_extension": ".py",
   "mimetype": "text/x-python",
   "name": "python",
   "nbconvert_exporter": "python",
   "pygments_lexer": "ipython3",
   "version": "3.6.13"
  }
 },
 "nbformat": 4,
 "nbformat_minor": 5
}
