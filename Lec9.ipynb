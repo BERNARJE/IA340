{
 "cells": [
  {
   "cell_type": "code",
   "execution_count": 11,
   "id": "2fe8a1a7",
   "metadata": {},
   "outputs": [
    {
     "name": "stdout",
     "output_type": "stream",
     "text": [
      "Requirement already satisfied: pymongo in /home/ec2-user/anaconda3/envs/python3/lib/python3.6/site-packages (3.12.1)\n",
      "\u001b[33mWARNING: You are using pip version 21.2.4; however, version 21.3.1 is available.\n",
      "You should consider upgrading via the '/home/ec2-user/anaconda3/envs/python3/bin/python -m pip install --upgrade pip' command.\u001b[0m\n"
     ]
    }
   ],
   "source": [
    "!pip install pymongo"
   ]
  },
  {
   "cell_type": "code",
   "execution_count": 12,
   "id": "15967c72",
   "metadata": {},
   "outputs": [
    {
     "name": "stdout",
     "output_type": "stream",
     "text": [
      "Requirement already satisfied: pymongo[srv] in /home/ec2-user/anaconda3/envs/python3/lib/python3.6/site-packages (3.12.1)\n",
      "Requirement already satisfied: dnspython<3.0.0,>=1.16.0 in /home/ec2-user/anaconda3/envs/python3/lib/python3.6/site-packages (from pymongo[srv]) (2.1.0)\n",
      "\u001b[33mWARNING: You are using pip version 21.2.4; however, version 21.3.1 is available.\n",
      "You should consider upgrading via the '/home/ec2-user/anaconda3/envs/python3/bin/python -m pip install --upgrade pip' command.\u001b[0m\n"
     ]
    }
   ],
   "source": [
    "!pip install pymongo[srv]"
   ]
  },
  {
   "cell_type": "code",
   "execution_count": 13,
   "id": "97887776",
   "metadata": {},
   "outputs": [
    {
     "name": "stdout",
     "output_type": "stream",
     "text": [
      "Requirement already satisfied: dnspython in /home/ec2-user/anaconda3/envs/python3/lib/python3.6/site-packages (2.1.0)\n",
      "\u001b[33mWARNING: You are using pip version 21.2.4; however, version 21.3.1 is available.\n",
      "You should consider upgrading via the '/home/ec2-user/anaconda3/envs/python3/bin/python -m pip install --upgrade pip' command.\u001b[0m\n"
     ]
    }
   ],
   "source": [
    "!pip install dnspython"
   ]
  },
  {
   "cell_type": "code",
   "execution_count": 14,
   "id": "56079865",
   "metadata": {},
   "outputs": [
    {
     "name": "stdout",
     "output_type": "stream",
     "text": [
      "Requirement already satisfied: tweepy in /home/ec2-user/anaconda3/envs/python3/lib/python3.6/site-packages (4.2.0)\n",
      "Requirement already satisfied: requests<3,>=2.11.1 in /home/ec2-user/anaconda3/envs/python3/lib/python3.6/site-packages (from tweepy) (2.26.0)\n",
      "Requirement already satisfied: requests-oauthlib<2,>=1.0.0 in /home/ec2-user/anaconda3/envs/python3/lib/python3.6/site-packages (from tweepy) (1.3.0)\n",
      "Requirement already satisfied: idna<4,>=2.5 in /home/ec2-user/anaconda3/envs/python3/lib/python3.6/site-packages (from requests<3,>=2.11.1->tweepy) (3.3)\n",
      "Requirement already satisfied: certifi>=2017.4.17 in /home/ec2-user/anaconda3/envs/python3/lib/python3.6/site-packages (from requests<3,>=2.11.1->tweepy) (2021.10.8)\n",
      "Requirement already satisfied: urllib3<1.27,>=1.21.1 in /home/ec2-user/anaconda3/envs/python3/lib/python3.6/site-packages (from requests<3,>=2.11.1->tweepy) (1.26.7)\n",
      "Requirement already satisfied: charset-normalizer~=2.0.0 in /home/ec2-user/anaconda3/envs/python3/lib/python3.6/site-packages (from requests<3,>=2.11.1->tweepy) (2.0.7)\n",
      "Requirement already satisfied: oauthlib>=3.0.0 in /home/ec2-user/anaconda3/envs/python3/lib/python3.6/site-packages (from requests-oauthlib<2,>=1.0.0->tweepy) (3.1.1)\n",
      "\u001b[33mWARNING: You are using pip version 21.2.4; however, version 21.3.1 is available.\n",
      "You should consider upgrading via the '/home/ec2-user/anaconda3/envs/python3/bin/python -m pip install --upgrade pip' command.\u001b[0m\n"
     ]
    }
   ],
   "source": [
    "!pip install tweepy"
   ]
  },
  {
   "cell_type": "code",
   "execution_count": 15,
   "id": "5a67b298",
   "metadata": {},
   "outputs": [
    {
     "name": "stdout",
     "output_type": "stream",
     "text": [
      "Requirement already satisfied: twitter in /home/ec2-user/anaconda3/envs/python3/lib/python3.6/site-packages (1.19.3)\n",
      "\u001b[33mWARNING: You are using pip version 21.2.4; however, version 21.3.1 is available.\n",
      "You should consider upgrading via the '/home/ec2-user/anaconda3/envs/python3/bin/python -m pip install --upgrade pip' command.\u001b[0m\n"
     ]
    }
   ],
   "source": [
    "!pip install twitter"
   ]
  },
  {
   "cell_type": "code",
   "execution_count": 30,
   "id": "c275bdfa",
   "metadata": {},
   "outputs": [],
   "source": [
    "import pymongo\n",
    "from pymongo import MongoClient\n",
    "import json\n",
    "import tweepy\n",
    "import twitter\n",
    "from pprint import pprint\n",
    "import configparser\n",
    "import pandas as pd"
   ]
  },
  {
   "cell_type": "code",
   "execution_count": 31,
   "id": "14482924",
   "metadata": {},
   "outputs": [],
   "source": [
    "config = configparser.ConfigParser()\n",
    "config.read('config.ini')\n",
    "\n",
    "CONSUMER_KEY      = config['mytwitter']['api_key']\n",
    "CONSUMER_SECRET   = config['mytwitter']['api_secrete']\n",
    "OAUTH_TOKEN       = config['mytwitter']['access_token']\n",
    "OATH_TOKEN_SECRET = config['mytwitter']['access_secrete']\n",
    "\n",
    "mongod_connect = config['mymongo']['connection']"
   ]
  },
  {
   "cell_type": "code",
   "execution_count": 32,
   "id": "31c3b10e",
   "metadata": {},
   "outputs": [
    {
     "data": {
      "text/plain": [
       "'id_1'"
      ]
     },
     "execution_count": 32,
     "metadata": {},
     "output_type": "execute_result"
    }
   ],
   "source": [
    "client = MongoClient(mongod_connect)\n",
    "db = client.demo # use or create a database named demo\n",
    "tweet_collection = db.tweet_collection #use or create a collection named tweet_collection\n",
    "tweet_collection.create_index([(\"id\", pymongo.ASCENDING)],unique = True) # make sure the collected tweets are unique"
   ]
  },
  {
   "cell_type": "code",
   "execution_count": 33,
   "id": "67276221",
   "metadata": {},
   "outputs": [],
   "source": [
    "rest_auth = twitter.oauth.OAuth(OAUTH_TOKEN,OATH_TOKEN_SECRET,CONSUMER_KEY,CONSUMER_SECRET)\n",
    "rest_api = twitter.Twitter(auth=rest_auth)"
   ]
  },
  {
   "cell_type": "code",
   "execution_count": 34,
   "id": "96b5859e",
   "metadata": {},
   "outputs": [],
   "source": [
    "count = 100 #number of returned tweets, default and max is 100\n",
    "geocode = \"38.4392897,-78.9412224,50mi\"  # defin the location, in Harrisonburg, VA\n",
    "q = \"election\"                               #define the keywords, tweets contain election"
   ]
  },
  {
   "cell_type": "code",
   "execution_count": 35,
   "id": "7be126a4",
   "metadata": {},
   "outputs": [
    {
     "name": "stdout",
     "output_type": "stream",
     "text": [
      "'Tue Nov 02 19:51:16 +0000 2021'\n",
      "'Tue Nov 02 19:42:13 +0000 2021'\n",
      "'Tue Nov 02 19:37:15 +0000 2021'\n",
      "'Tue Nov 02 19:35:47 +0000 2021'\n",
      "'Tue Nov 02 19:32:12 +0000 2021'\n",
      "'Tue Nov 02 19:32:10 +0000 2021'\n",
      "'Tue Nov 02 19:30:32 +0000 2021'\n",
      "'Tue Nov 02 19:30:00 +0000 2021'\n",
      "'Tue Nov 02 19:27:38 +0000 2021'\n",
      "'Tue Nov 02 19:17:19 +0000 2021'\n",
      "'Tue Nov 02 19:12:16 +0000 2021'\n",
      "'Tue Nov 02 19:03:15 +0000 2021'\n",
      "'Tue Nov 02 18:49:27 +0000 2021'\n",
      "'Tue Nov 02 18:49:27 +0000 2021'\n",
      "'Tue Nov 02 18:44:51 +0000 2021'\n",
      "'Tue Nov 02 18:42:59 +0000 2021'\n",
      "'Tue Nov 02 18:38:57 +0000 2021'\n",
      "'Tue Nov 02 18:38:01 +0000 2021'\n",
      "'Tue Nov 02 18:35:28 +0000 2021'\n",
      "'Tue Nov 02 18:33:48 +0000 2021'\n",
      "'Tue Nov 02 18:31:06 +0000 2021'\n",
      "'Tue Nov 02 18:30:28 +0000 2021'\n",
      "'Tue Nov 02 18:26:18 +0000 2021'\n",
      "'Tue Nov 02 18:24:35 +0000 2021'\n",
      "'Tue Nov 02 18:12:19 +0000 2021'\n",
      "'Tue Nov 02 18:07:27 +0000 2021'\n",
      "'Tue Nov 02 18:05:11 +0000 2021'\n",
      "'Tue Nov 02 18:02:30 +0000 2021'\n",
      "'Tue Nov 02 18:00:54 +0000 2021'\n",
      "'Tue Nov 02 17:53:10 +0000 2021'\n",
      "'Tue Nov 02 17:50:08 +0000 2021'\n",
      "'Tue Nov 02 17:47:18 +0000 2021'\n",
      "'Tue Nov 02 17:44:44 +0000 2021'\n",
      "'Tue Nov 02 17:41:43 +0000 2021'\n",
      "'Tue Nov 02 17:35:11 +0000 2021'\n",
      "'Tue Nov 02 17:25:32 +0000 2021'\n",
      "'Tue Nov 02 17:25:25 +0000 2021'\n",
      "'Tue Nov 02 17:23:34 +0000 2021'\n",
      "'Tue Nov 02 17:18:47 +0000 2021'\n",
      "'Tue Nov 02 17:15:23 +0000 2021'\n",
      "'Tue Nov 02 17:14:14 +0000 2021'\n",
      "'Tue Nov 02 17:12:22 +0000 2021'\n",
      "'Tue Nov 02 17:08:41 +0000 2021'\n",
      "'Tue Nov 02 17:00:02 +0000 2021'\n",
      "'Tue Nov 02 16:59:07 +0000 2021'\n",
      "'Tue Nov 02 16:57:43 +0000 2021'\n",
      "'Tue Nov 02 16:55:00 +0000 2021'\n",
      "'Tue Nov 02 16:54:39 +0000 2021'\n",
      "'Tue Nov 02 16:53:24 +0000 2021'\n",
      "'Tue Nov 02 16:53:22 +0000 2021'\n",
      "'Tue Nov 02 16:52:52 +0000 2021'\n",
      "'Tue Nov 02 16:46:40 +0000 2021'\n",
      "'Tue Nov 02 16:44:01 +0000 2021'\n",
      "'Tue Nov 02 16:43:00 +0000 2021'\n",
      "'Tue Nov 02 16:41:30 +0000 2021'\n",
      "'Tue Nov 02 16:37:30 +0000 2021'\n",
      "'Tue Nov 02 16:35:28 +0000 2021'\n",
      "'Tue Nov 02 16:13:30 +0000 2021'\n",
      "'Tue Nov 02 16:12:32 +0000 2021'\n",
      "'Tue Nov 02 16:11:17 +0000 2021'\n",
      "'Tue Nov 02 16:05:59 +0000 2021'\n",
      "'Tue Nov 02 16:02:08 +0000 2021'\n",
      "'Tue Nov 02 16:01:17 +0000 2021'\n",
      "'Tue Nov 02 16:00:22 +0000 2021'\n",
      "'Tue Nov 02 15:58:41 +0000 2021'\n",
      "'Tue Nov 02 15:56:47 +0000 2021'\n",
      "'Tue Nov 02 15:54:42 +0000 2021'\n",
      "'Tue Nov 02 15:53:50 +0000 2021'\n",
      "'Tue Nov 02 15:53:08 +0000 2021'\n",
      "'Tue Nov 02 15:52:09 +0000 2021'\n",
      "'Tue Nov 02 15:48:39 +0000 2021'\n",
      "'Tue Nov 02 15:44:57 +0000 2021'\n",
      "'Tue Nov 02 15:40:04 +0000 2021'\n",
      "'Tue Nov 02 15:34:46 +0000 2021'\n",
      "'Tue Nov 02 15:30:35 +0000 2021'\n",
      "'Tue Nov 02 15:28:56 +0000 2021'\n",
      "'Tue Nov 02 15:22:59 +0000 2021'\n",
      "'Tue Nov 02 15:19:52 +0000 2021'\n",
      "'Tue Nov 02 15:19:44 +0000 2021'\n",
      "'Tue Nov 02 15:10:47 +0000 2021'\n",
      "'Tue Nov 02 15:07:50 +0000 2021'\n",
      "'Tue Nov 02 15:07:12 +0000 2021'\n",
      "'Tue Nov 02 15:02:17 +0000 2021'\n",
      "'Tue Nov 02 15:01:29 +0000 2021'\n",
      "'Tue Nov 02 15:00:52 +0000 2021'\n",
      "'Tue Nov 02 14:54:28 +0000 2021'\n",
      "'Tue Nov 02 14:51:39 +0000 2021'\n",
      "'Tue Nov 02 14:49:11 +0000 2021'\n",
      "'Tue Nov 02 14:48:25 +0000 2021'\n",
      "'Tue Nov 02 14:46:30 +0000 2021'\n",
      "'Tue Nov 02 14:44:41 +0000 2021'\n",
      "'Tue Nov 02 14:44:29 +0000 2021'\n",
      "'Tue Nov 02 14:44:25 +0000 2021'\n",
      "'Tue Nov 02 14:43:03 +0000 2021'\n",
      "'Tue Nov 02 14:41:22 +0000 2021'\n",
      "'Tue Nov 02 14:41:18 +0000 2021'\n",
      "'Tue Nov 02 14:28:51 +0000 2021'\n",
      "'Tue Nov 02 14:26:02 +0000 2021'\n",
      "'Tue Nov 02 14:24:42 +0000 2021'\n",
      "'Tue Nov 02 14:23:49 +0000 2021'\n"
     ]
    }
   ],
   "source": [
    "search_results = rest_api.search.tweets( count=count,q=q, geocode=geocode) #you can use both q and geocode\n",
    "statuses = search_results[\"statuses\"]\n",
    "since_id_new = statuses[-1]['id']\n",
    "for statuse in statuses:\n",
    "    try:\n",
    "        tweet_collection.insert_one(statuse)\n",
    "        pprint(statuse['created_at'])# print the date of the collected tweets\n",
    "    except:\n",
    "        pass"
   ]
  },
  {
   "cell_type": "code",
   "execution_count": null,
   "id": "5e71ca72",
   "metadata": {},
   "outputs": [],
   "source": []
  }
 ],
 "metadata": {
  "kernelspec": {
   "display_name": "conda_python3",
   "language": "python",
   "name": "conda_python3"
  },
  "language_info": {
   "codemirror_mode": {
    "name": "ipython",
    "version": 3
   },
   "file_extension": ".py",
   "mimetype": "text/x-python",
   "name": "python",
   "nbconvert_exporter": "python",
   "pygments_lexer": "ipython3",
   "version": "3.6.13"
  }
 },
 "nbformat": 4,
 "nbformat_minor": 5
}
